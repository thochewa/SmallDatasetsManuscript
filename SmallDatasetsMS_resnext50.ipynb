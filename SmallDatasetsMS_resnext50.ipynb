{
  "nbformat": 4,
  "nbformat_minor": 0,
  "metadata": {
    "colab": {
      "name": "SmallDatasetsMS_resnext50.ipynb",
      "version": "0.3.2",
      "provenance": []
    },
    "kernelspec": {
      "name": "python3",
      "display_name": "Python 3"
    },
    "accelerator": "GPU"
  },
  "cells": [
    {
      "cell_type": "markdown",
      "metadata": {
        "id": "view-in-github",
        "colab_type": "text"
      },
      "source": [
        "[View in Colaboratory](https://colab.research.google.com/github/thochewa/SmallDatasetsManuscript/blob/master/SmallDatasetsMS_resnext50.ipynb)"
      ]
    },
    {
      "metadata": {
        "id": "874cpCb_ABEt",
        "colab_type": "text"
      },
      "cell_type": "markdown",
      "source": [
        "#  Image classification for small datasets with CNNs\n",
        "\n",
        "The script is intended to run on [Google Colab](https://colab.research.google.com). This requires installing pytorch and fast.ai packages always in the beginning.\n",
        "\n",
        "\n"
      ]
    },
    {
      "metadata": {
        "id": "bWe2TmH2KczV",
        "colab_type": "text"
      },
      "cell_type": "markdown",
      "source": [
        "## Debugging\n",
        "* if you get **strange errors**, missing functions etc., run the pip install --upgrade functions below\n",
        "* if you **still get strange errors**, restart your runtime\n",
        "* if you run **out of GPU memory**, restart your runtime\n",
        "* if you have worked on Colab the whole day, you find that **Colab hangs up**: run the 'kill' command\n",
        "* If **you cannot download or upload files**, re-import 'files' from 'google.colab' again"
      ]
    },
    {
      "metadata": {
        "id": "sTW-urgND83e",
        "colab_type": "code",
        "colab": {}
      },
      "cell_type": "code",
      "source": [
        "## To start with clean environment // it resets docker and VE\n",
        "## It helps to resolve wired and un-understandable errors\n",
        "#!kill -9 -1"
      ],
      "execution_count": 0,
      "outputs": []
    },
    {
      "metadata": {
        "id": "VmmEMaRGXWVG",
        "colab_type": "code",
        "colab": {}
      },
      "cell_type": "code",
      "source": [
        "# For automatic inline plotting\n",
        "%matplotlib inline"
      ],
      "execution_count": 0,
      "outputs": []
    },
    {
      "metadata": {
        "id": "fILRKtSyNUtb",
        "colab_type": "code",
        "colab": {}
      },
      "cell_type": "code",
      "source": [
        "# Preparing environment for GoogleColab\n",
        "!pip install http://download.pytorch.org/whl/cu80/torch-0.3.0.post4-cp36-cp36m-linux_x86_64.whl && pip install torchvision \n",
        "!pip install fastai\n",
        "!pip install pillow\n",
        "\n",
        "# If later on, you get strange errors of missing functions, PIL, etc., unblock the below and update these libs\n",
        "#!pip3 install torch --upgrade\n",
        "#!pip install fastai --upgrade \n",
        "#!pip install pillow --upgrade"
      ],
      "execution_count": 0,
      "outputs": []
    },
    {
      "metadata": {
        "id": "miBSf6VYABEz",
        "colab_type": "text"
      },
      "cell_type": "markdown",
      "source": [
        "## Task: Build a model for datasets below 5000 images and more than 10 classes\n",
        "* the model should be run on the resnet 34, resnet50 and resNext50 architecture\n",
        "* for this, change the 'arch' function below\n"
      ]
    },
    {
      "metadata": {
        "id": "CfiidmPWABE4",
        "colab_type": "code",
        "colab": {}
      },
      "cell_type": "code",
      "source": [
        "# Load libraries\n",
        "from fastai.imports import *"
      ],
      "execution_count": 0,
      "outputs": []
    },
    {
      "metadata": {
        "id": "MfqvhHEW4NjF",
        "colab_type": "code",
        "colab": {}
      },
      "cell_type": "code",
      "source": [
        "from fastai.transforms import *\n",
        "from fastai.conv_learner import *\n",
        "from fastai.model import *\n",
        "from fastai.dataset import *\n",
        "from fastai.sgdr import *\n",
        "from fastai.plots import *\n",
        "\n",
        "from google.colab import files\n",
        "import os"
      ],
      "execution_count": 0,
      "outputs": []
    },
    {
      "metadata": {
        "id": "YN10gPrpQau4",
        "colab_type": "text"
      },
      "cell_type": "markdown",
      "source": [
        "## Change directory to import model weight files"
      ]
    },
    {
      "metadata": {
        "id": "f_lJGdrZPoBb",
        "colab_type": "code",
        "colab": {
          "base_uri": "https://localhost:8080/",
          "height": 204
        },
        "outputId": "ada7f9cf-5970-42ad-f4aa-8af1f86dbef9"
      },
      "cell_type": "code",
      "source": [
        "# import os lib and change directory for model weight import\n",
        "os.chdir('/usr/local/lib/python3.6/dist-packages/fastai/')\n",
        "!ls -a"
      ],
      "execution_count": 42,
      "outputs": [
        {
          "output_type": "stream",
          "text": [
            ".\t\t     fp16.py\t\t  metrics.py\t swa.py\r\n",
            "..\t\t     imports.py\t\t  model.py\t text.py\r\n",
            "adaptive_softmax.py  initializers.py\t  models\t torch_imports.py\r\n",
            "column_data.py\t     __init__.py\t  nlp.py\t transforms_pil.py\r\n",
            "conv_learner.py      io.py\t\t  plots.py\t transforms.py\r\n",
            "core.py\t\t     layer_optimizer.py   __pycache__\t utils.py\r\n",
            "dataloader.py\t     layers.py\t\t  rnn_reg.py\t weights\r\n",
            "dataset.py\t     learner.py\t\t  rnn_train.py\t weights.tgz\r\n",
            "datFolder\t     lm_rnn.py\t\t  set_spawn.py\r\n",
            "datFolder.zip\t     losses.py\t\t  sgdr.py\r\n",
            "executors.py\t     lsuv_initializer.py  structured.py\r\n"
          ],
          "name": "stdout"
        }
      ]
    },
    {
      "metadata": {
        "id": "9hq993XGNQfu",
        "colab_type": "code",
        "colab": {}
      },
      "cell_type": "code",
      "source": [
        "# get and unpack model weights \n",
        "!wget http://files.fast.ai/models/weights.tgz\n",
        "!tar -xvzf weights.tgz"
      ],
      "execution_count": 0,
      "outputs": []
    },
    {
      "metadata": {
        "id": "ZyCOULra9gks",
        "colab_type": "text"
      },
      "cell_type": "markdown",
      "source": [
        "The package CuDNN will improve training performance significantly. The following should return True."
      ]
    },
    {
      "metadata": {
        "id": "C3mn9216_ZwK",
        "colab_type": "code",
        "colab": {
          "base_uri": "https://localhost:8080/",
          "height": 34
        },
        "outputId": "7a020140-9cd7-4d7f-817f-8040a9917603"
      },
      "cell_type": "code",
      "source": [
        "torch.cuda.is_available()"
      ],
      "execution_count": 5,
      "outputs": [
        {
          "output_type": "execute_result",
          "data": {
            "text/plain": [
              "True"
            ]
          },
          "metadata": {
            "tags": []
          },
          "execution_count": 5
        }
      ]
    },
    {
      "metadata": {
        "id": "xC4dHeoS_jb8",
        "colab_type": "code",
        "colab": {
          "base_uri": "https://localhost:8080/",
          "height": 34
        },
        "outputId": "70bcebb2-ef60-40ca-c63e-3d2c083ea331"
      },
      "cell_type": "code",
      "source": [
        "torch.backends.cudnn.enabled"
      ],
      "execution_count": 6,
      "outputs": [
        {
          "output_type": "execute_result",
          "data": {
            "text/plain": [
              "True"
            ]
          },
          "metadata": {
            "tags": []
          },
          "execution_count": 6
        }
      ]
    },
    {
      "metadata": {
        "id": "yQYW4TakABFF",
        "colab_type": "text"
      },
      "cell_type": "markdown",
      "source": [
        "## Load in external data from local drive.\n"
      ]
    },
    {
      "metadata": {
        "id": "WRr7f5QhONte",
        "colab_type": "code",
        "colab": {}
      },
      "cell_type": "code",
      "source": [
        "# Load external data from local disk\n",
        "uploaded = files.upload()"
      ],
      "execution_count": 0,
      "outputs": []
    },
    {
      "metadata": {
        "id": "_NdgZYZ_NNAv",
        "colab_type": "code",
        "colab": {}
      },
      "cell_type": "code",
      "source": [
        "# Unzip data file - in Colab, it should contain the right folder structure\n",
        "!unzip datFolder.zip"
      ],
      "execution_count": 0,
      "outputs": []
    },
    {
      "metadata": {
        "id": "29NSzIX8ABFi",
        "colab_type": "text"
      },
      "cell_type": "markdown",
      "source": [
        "## Inspect data"
      ]
    },
    {
      "metadata": {
        "id": "Y2_1dA28ABFj",
        "colab_type": "text"
      },
      "cell_type": "markdown",
      "source": [
        "Data is organized in *train* and *valid* directories with species image files in each.\n",
        "`PATH` sets the path to the data - since this is running in colab, we always have to re-create the directory as well; "
      ]
    },
    {
      "metadata": {
        "id": "kxwak51ij2je",
        "colab_type": "code",
        "colab": {}
      },
      "cell_type": "code",
      "source": [
        "# the folder name should be the base directory of your imported dataset\n",
        "PATH = \"datFolder/\""
      ],
      "execution_count": 0,
      "outputs": []
    },
    {
      "metadata": {
        "id": "7KfsFuJNABFj",
        "colab_type": "code",
        "colab": {
          "base_uri": "https://localhost:8080/",
          "height": 34
        },
        "outputId": "ed8b76ee-fa60-42e5-91b0-226704bb7538"
      },
      "cell_type": "code",
      "source": [
        "!ls {PATH}"
      ],
      "execution_count": 12,
      "outputs": [
        {
          "output_type": "stream",
          "text": [
            "Readme_Bee Data.md  train  valid\r\n"
          ],
          "name": "stdout"
        }
      ]
    },
    {
      "metadata": {
        "id": "X0BAGvsFKJTt",
        "colab_type": "code",
        "colab": {
          "base_uri": "https://localhost:8080/",
          "height": 102
        },
        "outputId": "644517d0-1aff-4e1d-e09e-750f72c20a85"
      },
      "cell_type": "code",
      "source": [
        "# Check the files\n",
        "filz = os.listdir(f'{PATH}/train')[:5]\n",
        "filz"
      ],
      "execution_count": 13,
      "outputs": [
        {
          "output_type": "execute_result",
          "data": {
            "text/plain": [
              "['OsmiaBicornis',\n",
              " 'MelectaAlbifrons',\n",
              " 'Group_NomadaSpp',\n",
              " 'Group_Lasioglossum',\n",
              " 'AndrenaFlavipes']"
            ]
          },
          "metadata": {
            "tags": []
          },
          "execution_count": 13
        }
      ]
    },
    {
      "metadata": {
        "id": "RuQXtEH9Bmfa",
        "colab_type": "code",
        "colab": {
          "base_uri": "https://localhost:8080/",
          "height": 34
        },
        "outputId": "f917d075-0d00-4678-f771-17ebdbf1dda0"
      },
      "cell_type": "code",
      "source": [
        "# Accessing the training data\n",
        "fn = PATH+data.trn_ds.fnames[0]; fn\n"
      ],
      "execution_count": 16,
      "outputs": [
        {
          "output_type": "execute_result",
          "data": {
            "text/plain": [
              "'datFolder/train/AndrenaBicolor/AndrenaBicolor043.jpg'"
            ]
          },
          "metadata": {
            "tags": []
          },
          "execution_count": 16
        }
      ]
    },
    {
      "metadata": {
        "id": "J48A4LIMCyo4",
        "colab_type": "code",
        "colab": {
          "base_uri": "https://localhost:8080/",
          "height": 211
        },
        "outputId": "138b75e2-5403-4b16-c2c3-473098a6bed9"
      },
      "cell_type": "code",
      "source": [
        "# Test image - is it centered?\n",
        "img = PIL.Image.open(fn); img"
      ],
      "execution_count": 17,
      "outputs": [
        {
          "output_type": "execute_result",
          "data": {
            "image/png": "[encoded data removed]",
            "text/plain": [
              "<PIL.JpegImagePlugin.JpegImageFile image mode=RGB size=259x194 at 0x7F5A92810E10>"
            ]
          },
          "metadata": {
            "tags": []
          },
          "execution_count": 17
        }
      ]
    },
    {
      "metadata": {
        "id": "qFximtHTPyYQ",
        "colab_type": "text"
      },
      "cell_type": "markdown",
      "source": [
        "### Checking size distribution of images in test dataset"
      ]
    },
    {
      "metadata": {
        "id": "daSGNmfS_ZC0",
        "colab_type": "code",
        "colab": {
          "base_uri": "https://localhost:8080/",
          "height": 316
        },
        "outputId": "b65fc0b6-8dfc-4ca3-87a5-089b49d41a63"
      },
      "cell_type": "code",
      "source": [
        "size_d = {k: PIL.Image.open(PATH+k).size for k in data.trn_ds.fnames}\n",
        "row_sz, col_sz = list(zip(*size_d.values()))\n",
        "row_sz = np.array(row_sz); col_sz = np.array(col_sz)\n",
        "row_sz[:5]\n",
        "\n",
        "# Identify row sizes / if row size is >500px you may want to crop\n",
        "plt.hist(row_sz)"
      ],
      "execution_count": 18,
      "outputs": [
        {
          "output_type": "execute_result",
          "data": {
            "text/plain": [
              "(array([   2.,   38.,  166.,  566., 1094.,  952.,   27.,   10.,    3.,    3.]),\n",
              " array([ 89. , 124.9, 160.8, 196.7, 232.6, 268.5, 304.4, 340.3, 376.2, 412.1, 448. ]),\n",
              " <a list of 10 Patch objects>)"
            ]
          },
          "metadata": {
            "tags": []
          },
          "execution_count": 18
        },
        {
          "output_type": "display_data",
          "data": {
            "image/png": "[encoded data removed]",
            "text/plain": [
              "<matplotlib.figure.Figure at 0x7f5aca1015c0>"
            ]
          },
          "metadata": {
            "tags": []
          }
        }
      ]
    },
    {
      "metadata": {
        "id": "WZgES4_vDdxS",
        "colab_type": "text"
      },
      "cell_type": "markdown",
      "source": [
        "## Data Preparation and Augmentation"
      ]
    },
    {
      "metadata": {
        "id": "XG-JQPAEDh6_",
        "colab_type": "code",
        "colab": {}
      },
      "cell_type": "code",
      "source": [
        "## Set architecture, image 'sz' and batch 'bs' sizes \n",
        "# `sz` is the image sizing parameter\n",
        "# `bs` sets batch size; \n",
        "# `arch` sets model architecture (use 'resnet34', resnet50, resnext50)\n",
        "arch=resnext50\n",
        "sz = 200\n",
        "bs = 64"
      ],
      "execution_count": 0,
      "outputs": []
    },
    {
      "metadata": {
        "id": "x5bgwKZLJx4a",
        "colab_type": "code",
        "colab": {
          "base_uri": "https://localhost:8080/",
          "height": 51
        },
        "outputId": "d083c08d-0c32-4633-f442-0c0c02bd0b86"
      },
      "cell_type": "code",
      "source": [
        "# Define data function and get data\n",
        "def get_data(sz,bs):\n",
        "  tfms = tfms_from_model(arch, sz, aug_tfms=transforms_side_on, max_zoom=1.1)\n",
        "  data = ImageClassifierData.from_paths(PATH, num_workers=4, tfms=tfms, bs=bs)\n",
        "  return data if sz>300 else data.resize(340, 'tmp')\n",
        "\n",
        "\n",
        "data = get_data(sz,bs)"
      ],
      "execution_count": 15,
      "outputs": [
        {
          "output_type": "display_data",
          "data": {
            "application/vnd.jupyter.widget-view+json": {
              "model_id": "d88003ec0d994f318ae597d37cd4fc8b",
              "version_minor": 0,
              "version_major": 2
            },
            "text/plain": [
              "HBox(children=(IntProgress(value=0, max=6), HTML(value='')))"
            ]
          },
          "metadata": {
            "tags": []
          }
        },
        {
          "output_type": "stream",
          "text": [
            "                                                 \n"
          ],
          "name": "stdout"
        }
      ]
    },
    {
      "metadata": {
        "id": "jqKq0nOvyXUq",
        "colab_type": "text"
      },
      "cell_type": "markdown",
      "source": [
        "### Inspect augmented images"
      ]
    },
    {
      "metadata": {
        "id": "HvDK1aJIyV57",
        "colab_type": "code",
        "colab": {}
      },
      "cell_type": "code",
      "source": [
        "def get_augs():\n",
        "    data = ImageClassifierData.from_paths(PATH, num_workers=4, tfms=tfms, bs=bs)\n",
        "    x,_ = next(iter(data.aug_dl))\n",
        "    return data.trn_ds.denorm(x)[1]"
      ],
      "execution_count": 0,
      "outputs": []
    },
    {
      "metadata": {
        "id": "UaKHPUyTyn79",
        "colab_type": "code",
        "colab": {}
      },
      "cell_type": "code",
      "source": [
        "tfms = tfms_from_model(arch, sz, aug_tfms=transforms_side_on, max_zoom=1.1)\n",
        "ims = np.stack([get_augs() for i in range(6)])"
      ],
      "execution_count": 0,
      "outputs": []
    },
    {
      "metadata": {
        "id": "ubvEIA4sNFBB",
        "colab_type": "code",
        "colab": {}
      },
      "cell_type": "code",
      "source": [
        "plots(ims, rows=2)"
      ],
      "execution_count": 0,
      "outputs": []
    },
    {
      "metadata": {
        "id": "1lWKBf_JABGD",
        "colab_type": "text"
      },
      "cell_type": "markdown",
      "source": [
        "## The SGDR Model Output to Report for the Paper\n",
        "* report the model output Accuracy, Epochs, and Time\n",
        "* report batchsize (bs) and the model architecture (arch)\n"
      ]
    },
    {
      "metadata": {
        "id": "d_cgRWtiABGE",
        "colab_type": "text"
      },
      "cell_type": "markdown",
      "source": [
        "The <b>pre-trained</b> CNN ImageNet (1.2 mio images in 1000 classes) model is a starting point. Here, we need to run the model with the <b>resnet34</b>, <b>resnet50</b>, and <b>resnext50</b> model."
      ]
    },
    {
      "metadata": {
        "id": "6jR9Qb9xNAbp",
        "colab_type": "code",
        "colab": {}
      },
      "cell_type": "code",
      "source": [
        "# you may want to try different learning rates, drop out values - below config worked best for my dataset\n",
        "learn = ConvLearner.pretrained(arch, data, ps=0.4, precompute=True)\n",
        "%time learn.fit(1e-2, 3, cycle_len=2)      # the '%time' command gives you the timing of the model fit"
      ],
      "execution_count": 0,
      "outputs": []
    },
    {
      "metadata": {
        "id": "0QpyODhyVmB-",
        "colab_type": "text"
      },
      "cell_type": "markdown",
      "source": [
        "###Load saved model layers\n",
        "* only applicable after unfinished restart\n",
        "* The following code creates the directory for saving the trained layer file, changes the WD and uploads the pretrained layers "
      ]
    },
    {
      "metadata": {
        "id": "v4ORpWBITxg0",
        "colab_type": "code",
        "colab": {}
      },
      "cell_type": "code",
      "source": [
        "learn.save('SGDR_resnext50')\n",
        "learn.load('SGDR_resnext50')"
      ],
      "execution_count": 0,
      "outputs": []
    },
    {
      "metadata": {
        "id": "N3diTLT2BIFq",
        "colab_type": "code",
        "colab": {}
      },
      "cell_type": "code",
      "source": [
        "# Show location of stored file\n",
        "os.listdir(f'{PATH}/tmp/340/models/')"
      ],
      "execution_count": 0,
      "outputs": []
    },
    {
      "metadata": {
        "id": "VzBLfKZTCjrV",
        "colab_type": "code",
        "colab": {}
      },
      "cell_type": "code",
      "source": [
        "# Download layer file // this may take a while\n",
        "from google.colab import files \n",
        "downloaded = files.download(f'{PATH}/tmp/340/models/SGDR_resnext50.h5')"
      ],
      "execution_count": 0,
      "outputs": []
    },
    {
      "metadata": {
        "id": "NxPtmgxgBsNz",
        "colab_type": "code",
        "colab": {}
      },
      "cell_type": "code",
      "source": [
        "# Load external trained layer from local disk // unblock if you need to reload the layer\n",
        "# from google.colab import files\n",
        "# uploaded = files.upload()"
      ],
      "execution_count": 0,
      "outputs": []
    },
    {
      "metadata": {
        "id": "rt8XlZmeVDHr",
        "colab_type": "text"
      },
      "cell_type": "markdown",
      "source": [
        "### Find best learning rate"
      ]
    },
    {
      "metadata": {
        "id": "MBDDNLWtCD46",
        "colab_type": "code",
        "colab": {
          "base_uri": "https://localhost:8080/",
          "height": 313
        },
        "outputId": "f97ff1c7-d710-4179-e743-379ebf521eda"
      },
      "cell_type": "code",
      "source": [
        "lrf=learn.lr_find()\n",
        "learn.sched.plot_lr()"
      ],
      "execution_count": 24,
      "outputs": [
        {
          "output_type": "display_data",
          "data": {
            "application/vnd.jupyter.widget-view+json": {
              "model_id": "29436f3c238144daba278b51134a39aa",
              "version_minor": 0,
              "version_major": 2
            },
            "text/plain": [
              "HBox(children=(IntProgress(value=0, description='Epoch', max=1), HTML(value='')))"
            ]
          },
          "metadata": {
            "tags": []
          }
        },
        {
          "output_type": "stream",
          "text": [
            " 96%|█████████▌| 43/45 [00:01<00:00, 40.60it/s, loss=18.6]\n"
          ],
          "name": "stdout"
        },
        {
          "output_type": "display_data",
          "data": {
            "image/png": "[encoded data removed]",
            "text/plain": [
              "<matplotlib.figure.Figure at 0x7f5ad5066198>"
            ]
          },
          "metadata": {
            "tags": []
          }
        }
      ]
    },
    {
      "metadata": {
        "id": "kUvC0KnyCM8e",
        "colab_type": "code",
        "colab": {
          "base_uri": "https://localhost:8080/",
          "height": 283
        },
        "outputId": "e9a72461-5a33-49d8-de31-c6b18035f9ac"
      },
      "cell_type": "code",
      "source": [
        "# identify ideal LR\n",
        "learn.sched.plot()"
      ],
      "execution_count": 25,
      "outputs": [
        {
          "output_type": "display_data",
          "data": {
            "image/png": "[encoded data removed]",
            "text/plain": [
              "<matplotlib.figure.Figure at 0x7f5a92806da0>"
            ]
          },
          "metadata": {
            "tags": []
          }
        }
      ]
    },
    {
      "metadata": {
        "id": "xAeoo5NvApC2",
        "colab_type": "text"
      },
      "cell_type": "markdown",
      "source": [
        "## The CLRS Model Output to Report for the Paper\n",
        "* report the model output Accuracy, Epochs, and Time\n",
        "* report batchsize (bs) and the model architecture (arch)"
      ]
    },
    {
      "metadata": {
        "id": "WyZW-Ak2CURJ",
        "colab_type": "code",
        "colab": {}
      },
      "cell_type": "code",
      "source": [
        "# After testing varying learning rate, multiple epochs and different learning rates, this was the best one\n",
        "# 5 epochs, 2 cycles (overfitting), 2 cycyle mults\n",
        "# precompute off\n",
        "learn.precompute=False\n",
        "%time learn.fit(1e-2, 5, cycle_len=2, cycle_mult=2)"
      ],
      "execution_count": 0,
      "outputs": []
    },
    {
      "metadata": {
        "id": "tU3CYwDaIPLK",
        "colab_type": "code",
        "colab": {}
      },
      "cell_type": "code",
      "source": [
        "# plotting the loss function\n",
        "learn.sched.plot_loss()"
      ],
      "execution_count": 0,
      "outputs": []
    },
    {
      "metadata": {
        "id": "ck22T-gDYTBi",
        "colab_type": "code",
        "colab": {}
      },
      "cell_type": "code",
      "source": [
        "# Save last trained layer\n",
        "learn.save('CLRS_ResNext50')\n",
        "learn.load('CLRS_ResNext50')"
      ],
      "execution_count": 0,
      "outputs": []
    },
    {
      "metadata": {
        "id": "MXs_C3VmCGOA",
        "colab_type": "code",
        "colab": {}
      },
      "cell_type": "code",
      "source": [
        "# Somethimes, you need to re-import files from google.colab for this to work - for whatever reason..\n",
        "from google.colab import files \n",
        "downloaded = files.download(f'{PATH}/tmp/340/models/CLRS_ResNext50.h5')"
      ],
      "execution_count": 0,
      "outputs": []
    },
    {
      "metadata": {
        "id": "0n3-agLcX0_l",
        "colab_type": "text"
      },
      "cell_type": "markdown",
      "source": [
        "## The ISI Model Output to Report for the Paper\n",
        "* report the model output Accuracy, Epochs, and Time\n",
        "* report batchsize (bs) and the model architecture (arch)\n",
        "\n",
        "According to Jeremy Howard, this increases accuracy - and it does indeed :D"
      ]
    },
    {
      "metadata": {
        "id": "hMf7IcImET2Y",
        "colab_type": "code",
        "colab": {}
      },
      "cell_type": "code",
      "source": [
        "# updating sizing and batch size\n",
        "# for resnext50 I had to decrease bs, otherwise I am running into an 'Out of GPU memory error'\n",
        "# for other arch, bs=64 was fine\n",
        "\n",
        "sz_up = 250\n",
        "bs = 25        \n",
        "\n",
        "learn.set_data(get_data(sz_up, bs))\n",
        "learn.freeze()"
      ],
      "execution_count": 0,
      "outputs": []
    },
    {
      "metadata": {
        "id": "xFCIJym2EWSA",
        "colab_type": "code",
        "colab": {}
      },
      "cell_type": "code",
      "source": [
        "%time learn.fit(1e-2, 5, cycle_len=2)"
      ],
      "execution_count": 0,
      "outputs": []
    },
    {
      "metadata": {
        "id": "DuRMEfraEcSX",
        "colab_type": "code",
        "colab": {}
      },
      "cell_type": "code",
      "source": [
        "# plotting the loss function\n",
        "learn.sched.plot_loss()"
      ],
      "execution_count": 0,
      "outputs": []
    },
    {
      "metadata": {
        "id": "CGaoFlSNEfEi",
        "colab_type": "code",
        "colab": {}
      },
      "cell_type": "code",
      "source": [
        "# Checking the learning rate plotter again\n",
        "learn.sched.plot_lr()"
      ],
      "execution_count": 0,
      "outputs": []
    },
    {
      "metadata": {
        "id": "uoL-8qqpEun0",
        "colab_type": "code",
        "colab": {}
      },
      "cell_type": "code",
      "source": [
        "# Save last trained layer // ISI means 'Image Size Increase'\n",
        "learn.save('ISI_resNext50')\n",
        "learn.load('ISI_resNext50')\n",
        "downloaded = files.download(f'{PATH}/tmp/340/models/ISI_resNext50.h5')"
      ],
      "execution_count": 0,
      "outputs": []
    },
    {
      "metadata": {
        "id": "nl0Yk2SMEz_u",
        "colab_type": "text"
      },
      "cell_type": "markdown",
      "source": [
        "## The TTA Model Output to Report for the Paper\n",
        "* report the model output Accuracy, Epochs, and Time\n",
        "* report batchsize (bs) and the model architecture (arch)"
      ]
    },
    {
      "metadata": {
        "id": "i3Xn58LFE82G",
        "colab_type": "code",
        "colab": {}
      },
      "cell_type": "code",
      "source": [
        "# TTA improvement\n",
        "log_preds,y = learn.TTA()\n",
        "probs = np.mean(np.exp(log_preds),0)\n",
        "accuracy_np(probs, y)"
      ],
      "execution_count": 0,
      "outputs": []
    },
    {
      "metadata": {
        "id": "tJB8ZocSFHrQ",
        "colab_type": "code",
        "colab": {}
      },
      "cell_type": "code",
      "source": [
        "# Save last trained layer // 'TTA' is 'Test Time Augmentation'\n",
        "learn.save('TTA_resNext50')\n",
        "learn.load('TTA_resNext50')\n",
        "downloaded = files.download(f'{PATH}/tmp/340/models/TTA_resNext50.h5')"
      ],
      "execution_count": 0,
      "outputs": []
    },
    {
      "metadata": {
        "id": "efcdq_Y2t9t4",
        "colab_type": "text"
      },
      "cell_type": "markdown",
      "source": [
        "## The RPL Model Output to Report for the Paper\n",
        "* report the model output Accuracy, Epochs, and Time\n",
        "* report batchsize (bs) and the model architecture (arch)"
      ]
    },
    {
      "metadata": {
        "id": "-OKfNXBPuGfB",
        "colab_type": "code",
        "colab": {}
      },
      "cell_type": "code",
      "source": [
        "#Unfreeze the lower layers for re-training\n",
        "learn.unfreeze()"
      ],
      "execution_count": 0,
      "outputs": []
    },
    {
      "metadata": {
        "id": "r0t_lrvvuN8m",
        "colab_type": "code",
        "colab": {}
      },
      "cell_type": "code",
      "source": [
        "# Setting up differential learning rates\n",
        "lr=np.array([1e-4,1e-3,1e-2])"
      ],
      "execution_count": 0,
      "outputs": []
    },
    {
      "metadata": {
        "id": "a1Tx5UiwFcq4",
        "colab_type": "code",
        "colab": {}
      },
      "cell_type": "code",
      "source": [
        "# Fitting model with differential learning rates\n",
        "%time learn.fit(lr, 25, cycle_len=2)"
      ],
      "execution_count": 0,
      "outputs": []
    },
    {
      "metadata": {
        "id": "o9yhqRzQLs_u",
        "colab_type": "code",
        "colab": {}
      },
      "cell_type": "code",
      "source": [
        "# Save trained model // 'RPL' means 'Re-training Pre-trained Layers'\n",
        "learn.save('RPL_resNext50')\n",
        "learn.load('RPL_resNext50')\n",
        "downloaded = files.download(f'{PATH}/tmp/340/models/RPL.h5')"
      ],
      "execution_count": 0,
      "outputs": []
    },
    {
      "metadata": {
        "id": "8htT40BCGGZn",
        "colab_type": "code",
        "colab": {}
      },
      "cell_type": "code",
      "source": [
        "# Check learning rate plotter\n",
        "learn.sched.plot_lr()"
      ],
      "execution_count": 0,
      "outputs": []
    },
    {
      "metadata": {
        "id": "DrCBictUGTja",
        "colab_type": "code",
        "colab": {}
      },
      "cell_type": "code",
      "source": [
        "# Check loss function again\n",
        "learn.sched.plot_loss()     # for better visualization, modify the (n_skip=40, n_skip_end=1) paras"
      ],
      "execution_count": 0,
      "outputs": []
    },
    {
      "metadata": {
        "id": "BO2YOaA4Ebno",
        "colab_type": "text"
      },
      "cell_type": "markdown",
      "source": [
        "##Confusion Matrix"
      ]
    },
    {
      "metadata": {
        "id": "HJKXv5lKZY_Y",
        "colab_type": "code",
        "colab": {}
      },
      "cell_type": "code",
      "source": [
        "# inspect results with confusion matrix\n",
        "log_preds = learn.predict()\n",
        "preds = np.argmax(log_preds, axis=1)  # from log probabilities to 0 or 1\n",
        "probs = np.exp(log_preds)\n",
        "y= data.val_y\n",
        "\n",
        "from sklearn.metrics import confusion_matrix\n",
        "cm = confusion_matrix(y, preds)"
      ],
      "execution_count": 0,
      "outputs": []
    },
    {
      "metadata": {
        "id": "bn2_-1sLGcro",
        "colab_type": "code",
        "colab": {}
      },
      "cell_type": "code",
      "source": [
        "plot_confusion_matrix(cm, data.classes)"
      ],
      "execution_count": 0,
      "outputs": []
    },
    {
      "metadata": {
        "id": "nnaM_J_nEiMy",
        "colab_type": "text"
      },
      "cell_type": "markdown",
      "source": [
        "## Predict from single image"
      ]
    },
    {
      "metadata": {
        "id": "610SOHC4bJSJ",
        "colab_type": "code",
        "colab": {}
      },
      "cell_type": "code",
      "source": [
        "# To predict out single images\n",
        "\n",
        "def pred_img(file_nm):\n",
        "    trn_tfms, val_tfms = tfms_from_model(downloaded,200) \n",
        "    test_img = val_tfms(open_image(file_nm)) # Load Image using fastai open_image in dataset.py\n",
        "    learn.precompute=False # We’ll pass in a raw image, not activations\n",
        "    pred = learn.predict_array(test_img[None]) # Predict Image\n",
        "    result = np.argmax(pred) # Pick the index with highest log probability\n",
        "    probs_single = np.exp(pred) # If you want the probabilities of the classes\n",
        "    actualclass = data.classes[result] # Look up class\n",
        "    return (print('the class value is:', result),\n",
        "           print('the image is a', actualclass),\n",
        "           print('the probability of this being true is:', probs_single)) "
      ],
      "execution_count": 0,
      "outputs": []
    },
    {
      "metadata": {
        "id": "exik2yOeG9j2",
        "colab_type": "code",
        "colab": {}
      },
      "cell_type": "code",
      "source": [
        "# Before this works you need to upload the image in the right folder\n",
        "pred_img('yourUploadedImage.jpg')"
      ],
      "execution_count": 0,
      "outputs": []
    }
  ]
}